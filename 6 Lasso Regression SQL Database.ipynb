{
 "cells": [
  {
   "cell_type": "code",
   "execution_count": 1,
   "id": "b8fd3535-643f-4449-a355-1a22fca73fea",
   "metadata": {},
   "outputs": [
    {
     "ename": "NameError",
     "evalue": "name 'RIDGE' is not defined",
     "output_type": "error",
     "traceback": [
      "\u001b[1;31m---------------------------------------------------------------------------\u001b[0m",
      "\u001b[1;31mNameError\u001b[0m                                 Traceback (most recent call last)",
      "Cell \u001b[1;32mIn[1], line 1\u001b[0m\n\u001b[1;32m----> 1\u001b[0m \u001b[43mRIDGE\u001b[49m \n",
      "\u001b[1;31mNameError\u001b[0m: name 'RIDGE' is not defined"
     ]
    }
   ],
   "source": [
    "LASSO REGRESSION : SQL DATABASE (Ms"
   ]
  },
  {
   "cell_type": "code",
   "execution_count": null,
   "id": "310ca3a5-a923-43ea-a6d9-a9db753b0a1c",
   "metadata": {},
   "outputs": [],
   "source": []
  },
  {
   "cell_type": "markdown",
   "id": "b9aa6b23-f01a-4b12-9f06-851b93df7ead",
   "metadata": {},
   "source": [
    "#### 1. Loading Dataset"
   ]
  },
  {
   "cell_type": "code",
   "execution_count": null,
   "id": "fd408032-3193-4091-ad74-f160ef8316c0",
   "metadata": {},
   "outputs": [],
   "source": [
    "import os\n",
    "import sqlite3\n",
    "import numpy as np\n",
    "import pandas as pd\n",
    "import yfinance as yf\n",
    "import matplotlib.pyplot as plt\n",
    "from tabulate import tabulate"
   ]
  },
  {
   "cell_type": "markdown",
   "id": "a7a4c5d3-7659-4508-b367-7fa7cbf08848",
   "metadata": {},
   "source": [
    "#### 2. Connecing Data Base"
   ]
  },
  {
   "cell_type": "code",
   "execution_count": null,
   "id": "a6e13269-ee1f-4788-958f-1af4d94b6283",
   "metadata": {},
   "outputs": [],
   "source": [
    "#connecting database\n",
    "def connect_database(database_name):\n",
    "    conn = sqlite3.connect(database_name)\n",
    "    cursor = conn.cursor()\n",
    "    return conn, cursor"
   ]
  },
  {
   "cell_type": "code",
   "execution_count": null,
   "id": "4acda45e-bcbf-49df-a97d-515fca8e7e5b",
   "metadata": {},
   "outputs": [],
   "source": [
    "database = \"stocks_master.db\"\n",
    "conn, cursor = connect_database(database)"
   ]
  },
  {
   "cell_type": "code",
   "execution_count": null,
   "id": "0bfabf41-cc1e-44f1-9ac8-1790113fa892",
   "metadata": {},
   "outputs": [],
   "source": [
    "if conn and cursor:\n",
    "    #finding tables in the database\n",
    "    def find_tables(conn):\n",
    "        cursor = conn.cursor()\n",
    "        cursor.execute(\"SELECT name FROM sqlite_master WHERE type='table';\")\n",
    "        tables = cursor.fetchall()\n",
    "        return [table[0] for table in tables]\n",
    "        \n",
    "    tables_in_database = find_tables(conn)\n",
    "    print(tables_in_database)\n",
    "    #closing the connection\n",
    "    conn.close()\n",
    "else:\n",
    "    print(\"Exiting due to connection error.\")"
   ]
  },
  {
   "cell_type": "code",
   "execution_count": null,
   "id": "4e66ac4b-8c47-4e78-a2b2-a2fa01d41823",
   "metadata": {},
   "outputs": [],
   "source": [
    "tables_in_database[0]"
   ]
  },
  {
   "cell_type": "markdown",
   "id": "efdb187a-d5d0-4671-addc-797479754878",
   "metadata": {},
   "source": [
    "#### 3. Feature Selection  "
   ]
  },
  {
   "cell_type": "code",
   "execution_count": null,
   "id": "2342ec4d-8d9c-47d6-85bc-35fe8dccc65f",
   "metadata": {},
   "outputs": [],
   "source": [
    "master_database_name = \"stocks_master.db\"\n",
    "master_conn = sqlite3.connect(master_database_name)"
   ]
  },
  {
   "cell_type": "code",
   "execution_count": null,
   "id": "52caac82-a0fd-4683-97f8-0dc67b5d45d7",
   "metadata": {},
   "outputs": [],
   "source": [
    "if master_conn:\n",
    "    #tables to query\n",
    "    tables_to_query = ['stock_prices_aapl', 'stock_prices_msft']\n",
    "    #iterate over the tables in the master database\n",
    "    for table_name in tables_to_query:\n",
    "        #new cursor for the query\n",
    "        query_cursor = master_conn.cursor()\n",
    "        query = f\"SELECT Date, Open, High, Low, Close, 'Adj Close' AS 'Adjusted Close', Volume FROM {table_name} ORDER BY Date DESC LIMIT 10\"\n",
    "        query_cursor.execute(query)\n",
    "        data = query_cursor.fetchall()\n",
    "        #extracting columns from the data\n",
    "        result_list = [list(row) for row in data]\n",
    "        #tabular format\n",
    "        print(f\"\\nTop five rows of {table_name}:\\n\")\n",
    "        print(tabulate(result_list, headers=[\"Date\", \"Open\", \"High\", \"Low\", \"Close\", \"Adjusted Close\", \"Volume\"], tablefmt=\"grid\"))\n",
    "else:\n",
    "    print(\"Master connection is closed.\")"
   ]
  },
  {
   "cell_type": "code",
   "execution_count": null,
   "id": "dc5dc92f-0503-4fe6-8248-49ed75644798",
   "metadata": {},
   "outputs": [],
   "source": [
    "from sklearn.preprocessing import PolynomialFeatures\n",
    "from sklearn.model_selection import train_test_split"
   ]
  },
  {
   "cell_type": "code",
   "execution_count": null,
   "id": "5f552448-5513-45da-a89a-92d5089cb7a0",
   "metadata": {},
   "outputs": [],
   "source": [
    "def fetch_closing_prices_and_dates(table_name, symbol):\n",
    "    query_cursor = master_conn.cursor()\n",
    "    query = f\"SELECT Date, Open, High, Low, Close, 'Adj Close' AS 'Adjusted Close', Volume FROM {table_name} ORDER BY Date DESC LIMIT 900\"\n",
    "    query_cursor.execute(query)\n",
    "    data = query_cursor.fetchall()\n",
    "    closing_prices = [float(row[1]) for row in data]\n",
    "    dates = [row[0] for row in data]\n",
    "    return dates, closing_prices"
   ]
  },
  {
   "cell_type": "code",
   "execution_count": null,
   "id": "a77ee424-e221-4d52-b9aa-12ef01f79e36",
   "metadata": {},
   "outputs": [],
   "source": [
    "x_table_name = 'stock_prices_msft'\n",
    "y_table_name = 'stock_prices_aapl'"
   ]
  },
  {
   "cell_type": "code",
   "execution_count": null,
   "id": "3887f9a7-4c51-4b48-860c-d694b93f3df2",
   "metadata": {},
   "outputs": [],
   "source": [
    "x_dates, x_closing_prices = fetch_closing_prices_and_dates(x_table_name, 'MSFT')\n",
    "y_dates, y_closing_prices = fetch_closing_prices_and_dates(y_table_name, 'AAPL')"
   ]
  },
  {
   "cell_type": "code",
   "execution_count": null,
   "id": "69d9f291-a123-45ad-aa6a-3b3ad09488e6",
   "metadata": {},
   "outputs": [],
   "source": [
    "common_dates = set(x_dates) & set(y_dates)"
   ]
  },
  {
   "cell_type": "code",
   "execution_count": null,
   "id": "9deb2674-fb2a-4525-be37-11d4956cff8f",
   "metadata": {},
   "outputs": [],
   "source": [
    "X_closing_prices = [x_closing_prices[x_dates.index(date)] for date in common_dates]\n",
    "y_closing_prices = [y_closing_prices[y_dates.index(date)] for date in common_dates]"
   ]
  },
  {
   "cell_type": "code",
   "execution_count": null,
   "id": "09a0eff5-8512-4db7-8ab3-255cbfd0d3d6",
   "metadata": {},
   "outputs": [],
   "source": [
    "print(f\"Length of X: {len(X_closing_prices)}\")\n",
    "print(f\"Length of Y: {len(y_closing_prices)}\")"
   ]
  },
  {
   "cell_type": "code",
   "execution_count": null,
   "id": "6b6389d5-0482-4789-89d9-581304ebb61a",
   "metadata": {},
   "outputs": [],
   "source": [
    "plt.figure(figsize=(8,5))\n",
    "plt.scatter(X_closing_prices, y_closing_prices, color='black', alpha=0.5)\n",
    "plt.title(\"Scatter Plot between Microsoft and Apple\")\n",
    "plt.xlabel(\"MSFT\")\n",
    "plt.ylabel(\"AAPL\")\n",
    "plt.grid(True, ls='--', color='black', alpha=0.2)\n",
    "plt.show()"
   ]
  },
  {
   "cell_type": "code",
   "execution_count": null,
   "id": "d17a0582-9520-49be-861f-216e543a7a35",
   "metadata": {},
   "outputs": [],
   "source": [
    "X = np.array(X_closing_prices).reshape(-1, 1)\n",
    "y = np.array(y_closing_prices)"
   ]
  },
  {
   "cell_type": "markdown",
   "id": "eaeb2f6a-15f1-42ce-88df-2c8fef442669",
   "metadata": {},
   "source": [
    "#### 4. Feature Scaling "
   ]
  },
  {
   "cell_type": "code",
   "execution_count": null,
   "id": "e2879108-2774-4bc0-8f41-b8662f3e5bd6",
   "metadata": {},
   "outputs": [],
   "source": [
    "#Z-scores \n",
    "X = (X - X.mean()) / X.std()"
   ]
  },
  {
   "cell_type": "code",
   "execution_count": null,
   "id": "0558cc26-3ed9-41aa-8084-365fdb1a8a91",
   "metadata": {},
   "outputs": [],
   "source": [
    "#splitting data into train and test size\n",
    "X_train, X_test, y_train, y_test = train_test_split(X, y, test_size=0.2, random_state=0)"
   ]
  },
  {
   "cell_type": "code",
   "execution_count": null,
   "id": "a0111999-92f9-4b44-9c89-f99ca9398a02",
   "metadata": {},
   "outputs": [],
   "source": [
    "#polynomial regression\n",
    "degree = 4\n",
    "poly_features = PolynomialFeatures(degree=degree)\n",
    "X_poly_train = poly_features.fit_transform(X_train)\n",
    "X_poly_test = poly_features.transform(X_test)"
   ]
  },
  {
   "cell_type": "markdown",
   "id": "335c6559-1c90-4536-94f4-36ff64568fcc",
   "metadata": {},
   "source": [
    "#### 5. Model Selection"
   ]
  },
  {
   "cell_type": "code",
   "execution_count": null,
   "id": "db88c3ee-e9d3-4591-970d-c4ac0ff4fd9d",
   "metadata": {},
   "outputs": [],
   "source": [
    "from sklearn.linear_model import Lasso"
   ]
  },
  {
   "cell_type": "code",
   "execution_count": null,
   "id": "34fca724-e7de-4844-b29f-037c654bca95",
   "metadata": {},
   "outputs": [],
   "source": [
    "lasso_model = Lasso(alpha=0.001, max_iter=50000)  \n",
    "lasso_model.fit(X_poly_train, y_train)"
   ]
  },
  {
   "cell_type": "code",
   "execution_count": null,
   "id": "4ab8d125-cc39-4f0d-b8cb-72873b6daa37",
   "metadata": {},
   "outputs": [],
   "source": [
    "line_test = np.linspace(min(X_test), max(X_test), 100).reshape(-1, 1)"
   ]
  },
  {
   "cell_type": "code",
   "execution_count": null,
   "id": "22730bb2-3f06-4c1c-9a37-90511b3c0e88",
   "metadata": {},
   "outputs": [],
   "source": [
    "line_poly = poly_features.transform(line_test)"
   ]
  },
  {
   "cell_type": "code",
   "execution_count": null,
   "id": "94670eb0-f4bc-492e-a3c0-eaf67d931a10",
   "metadata": {},
   "outputs": [],
   "source": [
    "y_pred = lasso_model.predict(line_poly)"
   ]
  },
  {
   "cell_type": "code",
   "execution_count": null,
   "id": "81ca7066-78f9-4f8a-9b4c-c91fbe52512e",
   "metadata": {},
   "outputs": [],
   "source": [
    "y_pred[:5]"
   ]
  },
  {
   "cell_type": "markdown",
   "id": "98e05316-48ec-44ab-93b1-82f3a7a5f9e6",
   "metadata": {},
   "source": [
    "#### 6. Best Fit Line (Predictive Analaysis)"
   ]
  },
  {
   "cell_type": "code",
   "execution_count": null,
   "id": "413dd879-00c0-411d-b9cc-ba737eb797df",
   "metadata": {},
   "outputs": [],
   "source": [
    "plt.figure(figsize=(8,5))\n",
    "plt.scatter(X_train, y_train, color='blue', alpha=0.7, label='Train')\n",
    "plt.scatter(X_test, y_test, color='black', alpha=0.7, label='Test')\n",
    "plt.plot(line_test, y_pred, color='red', label=f'Lasso Regression')\n",
    "plt.xlabel(\"MSFT Closing Prices\")\n",
    "plt.ylabel(\"AAPL Closing Prices\")\n",
    "plt.grid(True, ls='--', color='black', alpha=0.2)\n",
    "plt.legend()\n",
    "plt.show()"
   ]
  },
  {
   "cell_type": "markdown",
   "id": "2d0b0545-c411-4d0e-844b-9830185409a2",
   "metadata": {},
   "source": [
    "#### 7. Model Evaluation "
   ]
  },
  {
   "cell_type": "code",
   "execution_count": null,
   "id": "ea0c3686-458a-43df-b1c6-ba3e980d5e02",
   "metadata": {},
   "outputs": [],
   "source": [
    "from sklearn.metrics import mean_squared_error, mean_absolute_error, r2_score"
   ]
  },
  {
   "cell_type": "code",
   "execution_count": null,
   "id": "60654d86-b4d8-478e-b079-f15681399dca",
   "metadata": {},
   "outputs": [],
   "source": [
    "#R-squared for the model\n",
    "r2 = r2_score(y_test, lasso_model.predict(X_poly_test))\n",
    "#mean squared error (MSE) for the model\n",
    "mse = mean_squared_error(y_test, lasso_model.predict(X_poly_test))\n",
    "#RMSE for the model\n",
    "rmse = np.sqrt(mean_squared_error(y_test, lasso_model.predict(X_poly_test)))\n",
    "#MAE for the model\n",
    "mae = mean_absolute_error(y_test, lasso_model.predict(X_poly_test))\n",
    "print(f'R-squared: {r2}')\n",
    "print(f'Mean Squared Error (MSE): {mse}')\n",
    "print(f'Root Mean Squared Error (RMSE): {rmse}')\n",
    "print(f'Mean Absolute Error (MAE): {mae}')"
   ]
  },
  {
   "cell_type": "code",
   "execution_count": null,
   "id": "2fc5ee1d-ec0c-4cfd-99a2-70786d4d722c",
   "metadata": {},
   "outputs": [],
   "source": [
    "#residuals\n",
    "residuals = y_test - lasso_model.predict(X_poly_test)"
   ]
  },
  {
   "cell_type": "code",
   "execution_count": null,
   "id": "9de7c5e5-6292-4704-beb2-84da970b0c23",
   "metadata": {},
   "outputs": [],
   "source": [
    "#residuals against predicted values\n",
    "plt.figure(figsize=(6,5))\n",
    "plt.scatter(lasso_model.predict(X_poly_test), residuals, color='blue', marker='o', s=40, alpha=0.6)\n",
    "plt.title('Residual Plot for LASSO')\n",
    "plt.xlabel('Predicted Values')\n",
    "plt.ylabel('Residuals')\n",
    "plt.axhline(y=0, color='r', linestyle='--', linewidth=2)\n",
    "plt.grid(True, ls='--', color='black', alpha=0.2)\n",
    "plt.show()"
   ]
  },
  {
   "cell_type": "code",
   "execution_count": null,
   "id": "9c9f6943-a691-481f-b12d-692e16abd721",
   "metadata": {},
   "outputs": [],
   "source": [
    "from scipy.stats import probplot"
   ]
  },
  {
   "cell_type": "code",
   "execution_count": null,
   "id": "8db61ed4-c377-4f1a-a952-fe96821f999c",
   "metadata": {},
   "outputs": [],
   "source": [
    "#QQ plot\n",
    "plt.figure(figsize=(6,5))\n",
    "probplot(residuals, plot=plt)\n",
    "plt.title('QQ Plot for Residuals of LASSO')\n",
    "plt.xlabel('Theoretical Quantiles')\n",
    "plt.ylabel('Sample Quantiles')\n",
    "plt.grid(True, ls='--', color='black', alpha=0.2)\n",
    "plt.show()"
   ]
  },
  {
   "cell_type": "markdown",
   "id": "1352554d-3bc4-413d-ab2a-6b5091cbc663",
   "metadata": {},
   "source": [
    "#### References: \n",
    "\n",
    "1. Linear Regression in SQL: Is it Possible? [Medium](https://medium.com/swlh/linear-regression-in-sql-is-it-possible-b9cc787d622f)\n",
    "2. Linear Regression in SQL [Towards Data Science](https://towardsdatascience.com/linear-regression-in-sql-62eaf4861290)\n"
   ]
  }
 ],
 "metadata": {
  "kernelspec": {
   "display_name": "Python 3 (ipykernel)",
   "language": "python",
   "name": "python3"
  },
  "language_info": {
   "codemirror_mode": {
    "name": "ipython",
    "version": 3
   },
   "file_extension": ".py",
   "mimetype": "text/x-python",
   "name": "python",
   "nbconvert_exporter": "python",
   "pygments_lexer": "ipython3",
   "version": "3.11.7"
  }
 },
 "nbformat": 4,
 "nbformat_minor": 5
}
