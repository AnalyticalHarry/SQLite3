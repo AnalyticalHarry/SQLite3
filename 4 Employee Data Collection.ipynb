{
 "cells": [
  {
   "cell_type": "markdown",
   "id": "bde6ad9a-8d89-4d21-aed4-fb9032826834",
   "metadata": {},
   "source": [
    "## SQL lite : Employee Data Collection "
   ]
  },
  {
   "cell_type": "code",
   "execution_count": null,
   "id": "eb3c0955-0bf2-46f8-9e40-55f4ae365667",
   "metadata": {},
   "outputs": [],
   "source": []
  },
  {
   "cell_type": "markdown",
   "id": "bfd113a6-c181-4a4f-996f-486c7fec49ce",
   "metadata": {},
   "source": [
    "### 1. Importing Libraries "
   ]
  },
  {
   "cell_type": "code",
   "execution_count": 1,
   "id": "7c3c773a-d464-49b4-9692-3b4531ee3ebf",
   "metadata": {},
   "outputs": [],
   "source": [
    "import sqlite3\n",
    "import pandas as pd\n",
    "import numpy as np\n",
    "import seaborn as sns\n",
    "import matplotlib.pyplot as plt"
   ]
  },
  {
   "cell_type": "markdown",
   "id": "bfd50507-6a2a-47e2-ba48-ce6d7f2384f2",
   "metadata": {},
   "source": [
    "### 2. Creating or Connecting Database "
   ]
  },
  {
   "cell_type": "code",
   "execution_count": 2,
   "id": "58100b89-a33e-4730-b4d4-250bf723ab61",
   "metadata": {},
   "outputs": [],
   "source": [
    "#creating file if do not exist, connect if do not exist\n",
    "conn = sqlite3.connect('employee.db')"
   ]
  },
  {
   "cell_type": "code",
   "execution_count": 3,
   "id": "89b795b7-9c88-47d0-900f-0de080fd255f",
   "metadata": {},
   "outputs": [],
   "source": [
    "#cursor\n",
    "c = conn.cursor()"
   ]
  },
  {
   "cell_type": "markdown",
   "id": "8474cca1-1329-46b4-8209-59b44d85369e",
   "metadata": {},
   "source": [
    "### 3. Creating Table "
   ]
  },
  {
   "cell_type": "code",
   "execution_count": 4,
   "id": "23b386d9-9d6f-4759-ada2-d13dad6c2402",
   "metadata": {},
   "outputs": [
    {
     "data": {
      "text/plain": [
       "<sqlite3.Cursor at 0x15b9bb36ac0>"
      ]
     },
     "execution_count": 4,
     "metadata": {},
     "output_type": "execute_result"
    }
   ],
   "source": [
    "#query in doc string, creating table for first name, last name and pay\n",
    "c.execute(\"\"\"CREATE TABLE employee (\n",
    "            first_name text,\n",
    "            last_name text,\n",
    "            pay integer)\n",
    "         \"\"\")"
   ]
  },
  {
   "cell_type": "code",
   "execution_count": 5,
   "id": "4c4adcf1-528a-4b59-a2d3-ce6df4be6931",
   "metadata": {},
   "outputs": [],
   "source": [
    "#commit transaction\n",
    "conn.commit()"
   ]
  },
  {
   "cell_type": "markdown",
   "id": "7d6bc6a1-5f69-404d-b4c5-d63180cd6e5c",
   "metadata": {},
   "source": [
    "### 3. Inserting Employees Details "
   ]
  },
  {
   "cell_type": "code",
   "execution_count": 6,
   "id": "d05880fe-0246-4647-ae55-3e1a9b5a2ed9",
   "metadata": {},
   "outputs": [
    {
     "data": {
      "text/plain": [
       "<sqlite3.Cursor at 0x15b9bb36ac0>"
      ]
     },
     "execution_count": 6,
     "metadata": {},
     "output_type": "execute_result"
    }
   ],
   "source": [
    "#add employee data to database\n",
    "c.execute(\"INSERT INTO employee VALUES ('John', 'McDonald', 50000 )\")\n",
    "#add employee data to database\n",
    "c.execute(\"INSERT INTO employee VALUES ('Kristy', 'McDonald', 50000 )\")"
   ]
  },
  {
   "cell_type": "code",
   "execution_count": 7,
   "id": "715182ff-b4a9-49f2-910d-08dd2f118fe8",
   "metadata": {},
   "outputs": [
    {
     "data": {
      "text/plain": [
       "<sqlite3.Cursor at 0x15b9bb36ac0>"
      ]
     },
     "execution_count": 7,
     "metadata": {},
     "output_type": "execute_result"
    }
   ],
   "source": [
    "#add employee data to database\n",
    "c.execute(\"INSERT INTO employee VALUES ('Lewis', 'Style', 60000 )\")"
   ]
  },
  {
   "cell_type": "markdown",
   "id": "05532957-f615-41ff-bd99-967619a88bcf",
   "metadata": {},
   "source": [
    "### 4. Selecting Query "
   ]
  },
  {
   "cell_type": "code",
   "execution_count": 8,
   "id": "ec0a32ad-a891-476a-b1bd-33a3f684482d",
   "metadata": {},
   "outputs": [
    {
     "name": "stdout",
     "output_type": "stream",
     "text": [
      "('John', 'McDonald', 50000)\n"
     ]
    }
   ],
   "source": [
    "#selecting last name macdonald\n",
    "c.execute(\"SELECT * FROM employee WHERE last_name='McDonald'\")\n",
    "#return rows\n",
    "print(c.fetchone())"
   ]
  },
  {
   "cell_type": "code",
   "execution_count": 9,
   "id": "884959e4-3584-45ac-94c9-d3263759e9c5",
   "metadata": {},
   "outputs": [
    {
     "name": "stdout",
     "output_type": "stream",
     "text": [
      "[('John', 'McDonald', 50000), ('Kristy', 'McDonald', 50000)]\n"
     ]
    }
   ],
   "source": [
    "#selecting last name macdonald\n",
    "c.execute(\"SELECT * FROM employee WHERE last_name='McDonald'\")\n",
    "#return rows for person with last name mcdonald\n",
    "print(c.fetchmany(2))"
   ]
  },
  {
   "cell_type": "code",
   "execution_count": 10,
   "id": "543cf24e-5e36-45ac-8962-4f4120ca5efa",
   "metadata": {},
   "outputs": [
    {
     "data": {
      "text/plain": [
       "[('John', 'McDonald', 50000),\n",
       " ('Kristy', 'McDonald', 50000),\n",
       " ('Lewis', 'Style', 60000)]"
      ]
     },
     "execution_count": 10,
     "metadata": {},
     "output_type": "execute_result"
    }
   ],
   "source": [
    "#find employee details\n",
    "c.execute(\"SELECT * FROM employee\")\n",
    "#return all list of employee\n",
    "c.fetchall()"
   ]
  },
  {
   "cell_type": "code",
   "execution_count": 11,
   "id": "4516d292-9c38-4a4a-a624-cd8582b0e3bc",
   "metadata": {},
   "outputs": [],
   "source": [
    "def show_table():\n",
    "    #data structure for (first_name, last_name, pay)\n",
    "    c.execute(\"SELECT * FROM employee\")\n",
    "    \n",
    "    #using loop to iterate through first_name, last_name and salary\n",
    "    for i in c.fetchall():\n",
    "        first_name, last_name, salary = i\n",
    "        print(f'Name: {first_name} {last_name}, Salary: {salary}')"
   ]
  },
  {
   "cell_type": "code",
   "execution_count": 12,
   "id": "9b809503-39ce-4cb8-9e6a-6ea1868b8a52",
   "metadata": {},
   "outputs": [
    {
     "name": "stdout",
     "output_type": "stream",
     "text": [
      "Name: John McDonald, Salary: 50000\n",
      "Name: Kristy McDonald, Salary: 50000\n",
      "Name: Lewis Style, Salary: 60000\n"
     ]
    }
   ],
   "source": [
    "show_table()"
   ]
  },
  {
   "cell_type": "markdown",
   "id": "4ff972d9-827c-41ce-b844-f627b238161a",
   "metadata": {},
   "source": [
    "### 5. Editing Query "
   ]
  },
  {
   "cell_type": "code",
   "execution_count": 13,
   "id": "7b965401-1bbe-4f5c-93f3-54e265db641c",
   "metadata": {},
   "outputs": [
    {
     "data": {
      "text/plain": [
       "<sqlite3.Cursor at 0x15b9bb36ac0>"
      ]
     },
     "execution_count": 13,
     "metadata": {},
     "output_type": "execute_result"
    }
   ],
   "source": [
    "#update the last name to 'McCarthy' for all rows where the first name is 'John'\n",
    "c.execute(\"UPDATE employee SET last_name='McCarthy' WHERE first_name='John'\")"
   ]
  },
  {
   "cell_type": "code",
   "execution_count": 14,
   "id": "2cb4c832-e820-4921-9af2-83e9137b598c",
   "metadata": {},
   "outputs": [],
   "source": [
    "#commit the changes to the database\n",
    "conn.commit()"
   ]
  },
  {
   "cell_type": "code",
   "execution_count": 15,
   "id": "d3b3db5f-e34c-4bc8-b314-8e0d5d32da8e",
   "metadata": {},
   "outputs": [
    {
     "data": {
      "text/plain": [
       "[('John', 'McCarthy', 50000),\n",
       " ('Kristy', 'McDonald', 50000),\n",
       " ('Lewis', 'Style', 60000)]"
      ]
     },
     "execution_count": 15,
     "metadata": {},
     "output_type": "execute_result"
    }
   ],
   "source": [
    "#find employee details\n",
    "c.execute(\"SELECT * FROM employee\")\n",
    "#return all list of employee\n",
    "c.fetchall()"
   ]
  },
  {
   "cell_type": "markdown",
   "id": "9a4f3ff2-3486-4f0a-a2ee-0318e75cd241",
   "metadata": {},
   "source": [
    "### 6. Delete Query "
   ]
  },
  {
   "cell_type": "code",
   "execution_count": 16,
   "id": "3386bdca-8ae7-4698-b06d-4e8eb07d5222",
   "metadata": {},
   "outputs": [],
   "source": [
    "#delete rows where the first name and last name\n",
    "c.execute(\"DELETE FROM employee WHERE first_name='Lewis' AND last_name='Style'\")\n",
    "\n",
    "#commit the changes to the database\n",
    "conn.commit()"
   ]
  },
  {
   "cell_type": "code",
   "execution_count": 17,
   "id": "7fe1c9ae-a6a7-4945-a59a-4c4d7e7ca5df",
   "metadata": {},
   "outputs": [
    {
     "name": "stdout",
     "output_type": "stream",
     "text": [
      "Name: John McCarthy, Salary: 50000\n",
      "Name: Kristy McDonald, Salary: 50000\n"
     ]
    }
   ],
   "source": [
    "show_table()"
   ]
  },
  {
   "cell_type": "markdown",
   "id": "7f9dcaf1-dd33-4e98-aafd-51a47b778c65",
   "metadata": {},
   "source": [
    "### 7. Employee Class "
   ]
  },
  {
   "cell_type": "code",
   "execution_count": 18,
   "id": "c99a83ee-4a64-44a0-be5f-240790879f92",
   "metadata": {},
   "outputs": [],
   "source": [
    "class Employee:\n",
    "    def __init__(self, first_name, last_name, pay):\n",
    "        self.first_name = first_name\n",
    "        self.last_name = last_name\n",
    "        self.pay = pay\n",
    "\n",
    "    @property\n",
    "    def email(self):\n",
    "        return f'{self.first_name.lower()}.{self.last_name.lower()}@analyst.com'\n",
    "\n",
    "    @property\n",
    "    def fullname(self):\n",
    "        return f'{self.first_name} {self.last_name}'\n",
    "\n",
    "    def __repr__(self):\n",
    "        return f'Employee({self.first_name}, {self.last_name}, {self.pay})'\n"
   ]
  },
  {
   "cell_type": "code",
   "execution_count": 19,
   "id": "17ae3ce9-8172-4a86-b807-ea5b97d51fa0",
   "metadata": {},
   "outputs": [],
   "source": [
    "def employee_register():\n",
    "    first_name = input(\"Enter First Name: \")\n",
    "    last_name = input(\"Enter Last Name: \")\n",
    "    pay = int(input(\"Enter Pay: \"))\n",
    "    return first_name, last_name, pay"
   ]
  },
  {
   "cell_type": "code",
   "execution_count": 20,
   "id": "a8dac473-3ba9-42c6-ad58-9c3b562000b5",
   "metadata": {},
   "outputs": [
    {
     "name": "stdin",
     "output_type": "stream",
     "text": [
      "Enter First Name:  Rahul\n",
      "Enter Last Name:  singh\n",
      "Enter Pay:  40000\n"
     ]
    }
   ],
   "source": [
    "employee_data = employee_register()\n",
    "c.execute(\"INSERT INTO employee (first_name, last_name, pay) VALUES (?, ?, ?)\",\n",
    "          employee_data)\n",
    "#commit the changes to the database\n",
    "conn.commit()"
   ]
  },
  {
   "cell_type": "code",
   "execution_count": 21,
   "id": "65133bbd-f00e-44c2-a14d-23b28f506cf8",
   "metadata": {},
   "outputs": [],
   "source": [
    "#fetch all employees from the 'employee' table\n",
    "c.execute(\"SELECT * FROM employee\")\n",
    "employees = c.fetchall()"
   ]
  },
  {
   "cell_type": "code",
   "execution_count": 22,
   "id": "35885ed1-8d8a-4f7d-9f06-301cb5b8ecef",
   "metadata": {},
   "outputs": [
    {
     "name": "stdout",
     "output_type": "stream",
     "text": [
      "Employee(John, McCarthy, 50000)\n",
      "Employee(Kristy, McDonald, 50000)\n",
      "Employee(Rahul, singh, 40000)\n"
     ]
    }
   ],
   "source": [
    "for employee in employees:\n",
    "    print(Employee(*employee))\n",
    "conn.close()"
   ]
  },
  {
   "cell_type": "code",
   "execution_count": null,
   "id": "5d115e5c-af1d-4638-88e1-00739b5bf4ce",
   "metadata": {},
   "outputs": [],
   "source": []
  },
  {
   "cell_type": "code",
   "execution_count": null,
   "id": "499d00da-162e-46a6-9e18-8d466cccb27f",
   "metadata": {},
   "outputs": [],
   "source": []
  },
  {
   "cell_type": "code",
   "execution_count": null,
   "id": "deecb43d-5bd1-490d-80d6-037fc82ac59f",
   "metadata": {},
   "outputs": [],
   "source": []
  }
 ],
 "metadata": {
  "kernelspec": {
   "display_name": "Python 3 (ipykernel)",
   "language": "python",
   "name": "python3"
  },
  "language_info": {
   "codemirror_mode": {
    "name": "ipython",
    "version": 3
   },
   "file_extension": ".py",
   "mimetype": "text/x-python",
   "name": "python",
   "nbconvert_exporter": "python",
   "pygments_lexer": "ipython3",
   "version": "3.11.7"
  }
 },
 "nbformat": 4,
 "nbformat_minor": 5
}
